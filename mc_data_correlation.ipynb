{
 "cells": [
  {
   "cell_type": "markdown",
   "metadata": {},
   "source": [
    "# Correlations in Ising Monte Carlo data"
   ]
  },
  {
   "cell_type": "markdown",
   "metadata": {},
   "source": [
    "In this notebook, we will explore the spin-spin correlations of cofigurations sampled via the classical Monte Carlo simulation found [here](https://github.com/ecasiano/IsingMonteCarlo).\n",
    "\n",
    "The correlations will be quantified via the correlation function:\n",
    "\n",
    "\\begin{equation}\n",
    "G(r) = \\langle \\sigma_0 \\sigma_r \\rangle\n",
    "\\end{equation}\n",
    "\n",
    "where $\\sigma_0$ is the central spin, and $\\sigma_r$ is a spin $r$ lattice units away from the central one."
   ]
  },
  {
   "cell_type": "code",
   "execution_count": 1,
   "metadata": {},
   "outputs": [],
   "source": [
    "import numpy as np\n",
    "import matplotlib.pyplot as plt"
   ]
  },
  {
   "cell_type": "code",
   "execution_count": 2,
   "metadata": {},
   "outputs": [],
   "source": [
    "def G(ising_lattice,r):\n",
    "    \n",
    "    L = ising_lattice.shape[0]\n",
    "    N = L**2\n",
    "    \n",
    "    G_accum = np.ones(N)\n",
    "    idx = 0\n",
    "    for i in range(L):\n",
    "        for j in range(L):\n",
    "            \n",
    "            σ_0 = ising_lattice[i,j]\n",
    "            \n",
    "            σ_0σ_right = σ_0*ising_lattice[i,(j+r)%L]\n",
    "            σ_0σ_left = σ_0*ising_lattice[i,(j-r)%L]\n",
    "            σ_0σ_down = σ_0*ising_lattice[(i+r)%L,j]\n",
    "            σ_0σ_up = σ_0*ising_lattice[(i-r)%L,j]\n",
    "            \n",
    "            G_accum[idx] = (σ_0σ_right+σ_0σ_left+σ_0σ_down+σ_0σ_up)/4\n",
    "            idx += 1\n",
    "\n",
    "    G_average = np.mean(G_accum)\n",
    "    G_stderr = np.std(G_accum)/np.sqrt(N)\n",
    "    \n",
    "    return G_average,G_stderr"
   ]
  },
  {
   "cell_type": "code",
   "execution_count": 3,
   "metadata": {},
   "outputs": [
    {
     "data": {
      "text/plain": [
       "array([[-1.,  1., -1., ...,  1., -1.,  1.],\n",
       "       [ 1., -1.,  1., ..., -1.,  1.,  1.],\n",
       "       [ 1., -1., -1., ...,  1., -1., -1.],\n",
       "       ...,\n",
       "       [ 1.,  1.,  1., ..., -1.,  1.,  1.],\n",
       "       [-1.,  1.,  1., ...,  1., -1.,  1.],\n",
       "       [ 1.,  1.,  1., ..., -1., -1.,  1.]])"
      ]
     },
     "execution_count": 3,
     "metadata": {},
     "output_type": "execute_result"
    }
   ],
   "source": [
    "# Load Monte Carlo data\n",
    "filename = './ising_monte_carlo_data/L_10_T_4.0_spins.dat'\n",
    "data = np.loadtxt(filename)[31999:]\n",
    "data"
   ]
  },
  {
   "cell_type": "code",
   "execution_count": 4,
   "metadata": {},
   "outputs": [],
   "source": [
    "# Grab temperature from file name\n",
    "T = float(filename.split('_')[-2])"
   ]
  },
  {
   "cell_type": "code",
   "execution_count": 5,
   "metadata": {},
   "outputs": [],
   "source": [
    "# Reshape each row for compatibility with correlation function definition\n",
    "L = int(np.sqrt(data[0].shape[0]))\n",
    "N = L**2\n",
    "mc_data = [row.reshape(L,L) for row in data]"
   ]
  },
  {
   "cell_type": "code",
   "execution_count": 6,
   "metadata": {},
   "outputs": [
    {
     "data": {
      "text/plain": [
       "(0.26, 0.04715930449020638)"
      ]
     },
     "execution_count": 6,
     "metadata": {},
     "output_type": "execute_result"
    }
   ],
   "source": [
    "# Compute correlation function for r = 1 ; G(r=1)\n",
    "G(mc_data[0],r=1)"
   ]
  },
  {
   "cell_type": "code",
   "execution_count": 7,
   "metadata": {},
   "outputs": [
    {
     "name": "stdout",
     "output_type": "stream",
     "text": [
      "G(r=1) = 0.2782 +/- 0.0002\n"
     ]
    }
   ],
   "source": [
    "# Compute G(r=1) for all samples\n",
    "G1 = np.ones(len(mc_data))\n",
    "for i,config in enumerate(mc_data):\n",
    "    G1[i] = G(config,r=1)[0]\n",
    "    \n",
    "print(\"G(r=1) = %.4f +/- %.4f\"%(np.mean(G1),np.std(G1)/np.sqrt(G1.shape[0])))"
   ]
  },
  {
   "cell_type": "code",
   "execution_count": 8,
   "metadata": {},
   "outputs": [
    {
     "name": "stdout",
     "output_type": "stream",
     "text": [
      "G(r=0) = 1.0000 +/- 0.0000\n",
      "G(r=1) = 0.2782 +/- 0.0002\n",
      "G(r=2) = 0.0857 +/- 0.0002\n",
      "G(r=3) = 0.0287 +/- 0.0003\n",
      "G(r=4) = 0.0106 +/- 0.0003\n",
      "G(r=5) = 0.0064 +/- 0.0003\n"
     ]
    }
   ],
   "source": [
    "# Compute G(r) for all lengths r=1,...,L/2\n",
    "max_length = L//2\n",
    "Gr = np.ones((max_length+1,len(mc_data)))\n",
    "for r in range(max_length+1):\n",
    "    for i,config in enumerate(mc_data):\n",
    "        Gr[r][i] = G(config,r=r)[0]\n",
    "    \n",
    "    print(\"G(r=%d) = %.4f +/- %.4f\"%(r,np.mean(Gr[r]),np.std(Gr[r])/np.sqrt(G1.shape[0])))"
   ]
  },
  {
   "cell_type": "code",
   "execution_count": 9,
   "metadata": {},
   "outputs": [
    {
     "data": {
      "image/png": "[encoded data removed]",
      "text/plain": [
       "<Figure size 432x288 with 1 Axes>"
      ]
     },
     "metadata": {
      "needs_background": "light"
     },
     "output_type": "display_data"
    }
   ],
   "source": [
    "# Plot correlation function at all lengths\n",
    "Gr_mean = np.mean(Gr,axis=1)\n",
    "Gr_err = np.std(Gr,axis=1)/np.sqrt(Gr[0].shape[0])\n",
    "plt.errorbar(range(max_length+1),Gr_mean,yerr=Gr_err,fmt='.',ms=10,label=r'$T=%.2f$'%T);\n",
    "plt.ylabel(r'$\\langle \\sigma_0 \\sigma_r \\rangle$')\n",
    "plt.xlabel(r'$r$')\n",
    "plt.legend(frameon=False);"
   ]
  },
  {
   "cell_type": "code",
   "execution_count": 46,
   "metadata": {},
   "outputs": [
    {
     "name": "stdout",
     "output_type": "stream",
     "text": [
      "T = : 0.25\n",
      "G(r=0) = 1.0000 +/- 0.0000\n",
      "G(r=1) = 1.0000 +/- 0.0000\n",
      "G(r=2) = 1.0000 +/- 0.0000\n",
      "G(r=3) = 1.0000 +/- 0.0000\n",
      "G(r=4) = 1.0000 +/- 0.0000\n",
      "G(r=5) = 1.0000 +/- 0.0000\n",
      "\n",
      "\n",
      "T = : 1.25\n",
      "G(r=0) = 1.0000 +/- 0.0000\n",
      "G(r=1) = 0.9924 +/- 0.0001\n",
      "G(r=2) = 0.9921 +/- 0.0001\n",
      "G(r=3) = 0.9921 +/- 0.0001\n",
      "G(r=4) = 0.9921 +/- 0.0001\n",
      "G(r=5) = 0.9921 +/- 0.0001\n",
      "\n",
      "\n",
      "T = : 2.25\n",
      "G(r=0) = 1.0000 +/- 0.0000\n",
      "G(r=1) = 0.7504 +/- 0.0003\n",
      "G(r=2) = 0.6688 +/- 0.0005\n",
      "G(r=3) = 0.6349 +/- 0.0007\n",
      "G(r=4) = 0.6200 +/- 0.0007\n",
      "G(r=5) = 0.6156 +/- 0.0007\n",
      "\n",
      "\n",
      "T = : 3.25\n",
      "G(r=0) = 1.0000 +/- 0.0000\n",
      "G(r=1) = 0.3661 +/- 0.0003\n",
      "G(r=2) = 0.1552 +/- 0.0003\n",
      "G(r=3) = 0.0747 +/- 0.0003\n",
      "G(r=4) = 0.0426 +/- 0.0004\n",
      "G(r=5) = 0.0341 +/- 0.0004\n",
      "\n",
      "\n",
      "T = : 4.0\n",
      "G(r=0) = 1.0000 +/- 0.0000\n",
      "G(r=1) = 0.2783 +/- 0.0002\n",
      "G(r=2) = 0.0861 +/- 0.0003\n",
      "G(r=3) = 0.0290 +/- 0.0003\n",
      "G(r=4) = 0.0106 +/- 0.0003\n",
      "G(r=5) = 0.0065 +/- 0.0003\n",
      "\n",
      "\n"
     ]
    }
   ],
   "source": [
    "# List of temperatures\n",
    "temp_list = ['0.25','1.25','2.25','3.25','4.0']\n",
    "\n",
    "# Compare for some different temperatures\n",
    "GT_mean = np.ones((len(temp_list),L//2+1))\n",
    "GT_err = np.ones((len(temp_list),L//2+1))\n",
    "\n",
    "for temp_idx,temp in enumerate(temp_list):\n",
    "\n",
    "    print('T = :',temp)\n",
    "    \n",
    "    # Load Monte Carlo data\n",
    "    filename = './ising_monte_carlo_data/L_10_T_'+temp+'_spins.dat'\n",
    "    data = np.loadtxt(filename)[80000:]\n",
    "\n",
    "    # Grab temperature from file name\n",
    "    T = float(filename.split('_')[-2])\n",
    "    \n",
    "    # Reshape each row for compatibility with correlation function definition\n",
    "    L = int(np.sqrt(data[0].shape[0]))\n",
    "    N = L**2\n",
    "    mc_data = [row.reshape(L,L) for row in data]\n",
    "    \n",
    "    # Compute G(r) for all lengths r=1,...,L/2\n",
    "    max_length = L//2\n",
    "    Gr = np.ones((max_length+1,len(mc_data)))\n",
    "    for r in range(max_length+1):\n",
    "        for i,config in enumerate(mc_data):\n",
    "            Gr[r][i] = G(config,r=r)[0]\n",
    "\n",
    "        print(\"G(r=%d) = %.4f +/- %.4f\"%(r,np.mean(Gr[r]),np.std(Gr[r])/np.sqrt(G1.shape[0])))\n",
    "                \n",
    "    print('\\n')\n",
    "    # Plot correlation function at all lengths\n",
    "#     plt.errorbar(range(max_length+1),Gr_mean,yerr=Gr_err,fmt='.',ms=10,label=r'$T=%.2f$'%T);\n",
    "#     plt.ylabel(r'$\\langle \\sigma_0 \\sigma_r \\rangle$')\n",
    "#     plt.xlabel(r'$r$')\n",
    "#     plt.legend(frameon=False);\n",
    "    \n",
    "    # Save results for later plotting\n",
    "    Gr_mean = np.mean(Gr,axis=1)\n",
    "    Gr_err = np.std(Gr,axis=1)/np.sqrt(Gr[0].shape[0])\n",
    "    GT_mean[temp_idx] = Gr_mean\n",
    "    GT_err[temp_idx] = Gr_err"
   ]
  },
  {
   "cell_type": "code",
   "execution_count": 47,
   "metadata": {},
   "outputs": [
    {
     "data": {
      "text/plain": [
       "array([[1.        , 1.        , 1.        , 1.        , 1.        ,\n",
       "        1.        ],\n",
       "       [1.        , 0.99243725, 0.992084  , 0.992067  , 0.99206675,\n",
       "        0.992068  ],\n",
       "       [1.        , 0.750419  , 0.6687655 , 0.63494025, 0.619989  ,\n",
       "        0.615558  ],\n",
       "       [1.        , 0.3660995 , 0.1552085 , 0.074716  , 0.0426315 ,\n",
       "        0.0340795 ],\n",
       "       [1.        , 0.27831725, 0.08605575, 0.029046  , 0.01058825,\n",
       "        0.0065365 ]])"
      ]
     },
     "execution_count": 47,
     "metadata": {},
     "output_type": "execute_result"
    }
   ],
   "source": [
    "GT_mean"
   ]
  },
  {
   "cell_type": "code",
   "execution_count": 48,
   "metadata": {},
   "outputs": [
    {
     "data": {
      "image/png": "[encoded data removed]",
      "text/plain": [
       "<Figure size 432x288 with 1 Axes>"
      ]
     },
     "metadata": {
      "needs_background": "light"
     },
     "output_type": "display_data"
    }
   ],
   "source": [
    "# Modify plot and save\n",
    "for i,results in enumerate(GT_mean):\n",
    "    plt.errorbar(range(max_length+1),GT_mean[i],yerr=GT_err[i],fmt='.-',\n",
    "                 ms=10,label=r'$T=%.2f$'%float(temp_list[i]));\n",
    "plt.ylabel(r'$\\langle \\sigma_0 \\sigma_r \\rangle$')\n",
    "plt.xlabel(r'$r$')\n",
    "plt.legend(frameon=False);\n",
    "plt.savefig('L10_Tsweep_corr.pdf',dpi=300)"
   ]
  },
  {
   "cell_type": "markdown",
   "metadata": {},
   "source": [
    "# Comparison between paper dataset and mine"
   ]
  },
  {
   "cell_type": "markdown",
   "metadata": {},
   "source": [
    "In [A high-bias, low-variance introduction to Machine Learning for physicists](https://arxiv.org/pdf/1803.08823.pdf), they use a similar Ising dataset to ours, with the following parameters:\n",
    "\n",
    "```L=40``` \n",
    "\n",
    "```T=[0.25,0.50,...,4.00]```\n",
    "\n",
    "```N_samples = 160,000```"
   ]
  },
  {
   "cell_type": "markdown",
   "metadata": {},
   "source": [
    "We want to compare the quality of ours and their dataset in various ways. The first, is to compute the correlation function at fixed values of temperature:"
   ]
  },
  {
   "cell_type": "markdown",
   "metadata": {},
   "source": [
    "## Our data"
   ]
  },
  {
   "cell_type": "code",
   "execution_count": 59,
   "metadata": {},
   "outputs": [
    {
     "name": "stdout",
     "output_type": "stream",
     "text": [
      "T = : 4.0\n",
      "G(r=0) = 1.0000 +/- 0.0000\n",
      "G(r=1) = 0.2789 +/- 0.0045\n",
      "G(r=2) = 0.0858 +/- 0.0049\n",
      "G(r=3) = 0.0285 +/- 0.0048\n",
      "G(r=4) = 0.0099 +/- 0.0047\n",
      "G(r=5) = 0.0036 +/- 0.0047\n",
      "G(r=6) = 0.0011 +/- 0.0047\n",
      "G(r=7) = 0.0005 +/- 0.0046\n",
      "G(r=8) = 0.0003 +/- 0.0046\n",
      "G(r=9) = -0.0001 +/- 0.0046\n",
      "G(r=10) = -0.0003 +/- 0.0046\n",
      "G(r=11) = -0.0002 +/- 0.0047\n",
      "G(r=12) = -0.0001 +/- 0.0046\n",
      "G(r=13) = -0.0004 +/- 0.0046\n",
      "G(r=14) = -0.0004 +/- 0.0047\n",
      "G(r=15) = -0.0005 +/- 0.0046\n",
      "G(r=16) = -0.0001 +/- 0.0046\n",
      "G(r=17) = -0.0002 +/- 0.0047\n",
      "G(r=18) = 0.0000 +/- 0.0048\n",
      "G(r=19) = -0.0002 +/- 0.0052\n",
      "G(r=20) = -0.0003 +/- 0.0066\n",
      "\n",
      "\n"
     ]
    }
   ],
   "source": [
    "# List of temperatures\n",
    "temp_list = ['4.0']\n",
    "\n",
    "L = 40\n",
    "# Compare for some different temperatures\n",
    "GT_mean_40 = np.ones((len(temp_list),L//2+1))\n",
    "GT_err_40 = np.ones((len(temp_list),L//2+1))\n",
    "for temp_idx,temp in enumerate(temp_list):\n",
    "\n",
    "    print('T = :',temp)\n",
    "    \n",
    "    # Load Monte Carlo data\n",
    "    filename = './ising_monte_carlo_data/L_40_T_'+temp+'_spins.dat'\n",
    "    data = np.loadtxt(filename)[150000:]\n",
    "\n",
    "    # Grab temperature from file name\n",
    "    T = float(filename.split('_')[-2])\n",
    "    \n",
    "    # Reshape each row for compatibility with correlation function definition\n",
    "    L = int(np.sqrt(data[0].shape[0]))\n",
    "    N = L**2\n",
    "    mc_data = [row.reshape(L,L) for row in data]\n",
    "    \n",
    "    # Compute G(r) for all lengths r=1,...,L/2\n",
    "    max_length = L//2\n",
    "    Gr = np.ones((max_length+1,len(mc_data)))\n",
    "    for r in range(max_length+1):\n",
    "        for i,config in enumerate(mc_data):\n",
    "            Gr[r][i] = G(config,r=r)[0]\n",
    "\n",
    "        print(\"G(r=%d) = %.4f +/- %.4f\"%(r,np.mean(Gr[r]),np.std(Gr[r])/np.sqrt(Gr.shape[0])))\n",
    "                \n",
    "    print('\\n')\n",
    "    # Plot correlation function at all lengths\n",
    "#     plt.errorbar(range(max_length+1),Gr_mean,yerr=Gr_err,fmt='.',ms=10,label=r'$T=%.2f$'%T);\n",
    "#     plt.ylabel(r'$\\langle \\sigma_0 \\sigma_r \\rangle$')\n",
    "#     plt.xlabel(r'$r$')\n",
    "#     plt.legend(frameon=False);\n",
    "    \n",
    "    # Save results for later plotting\n",
    "    Gr_mean = np.mean(Gr,axis=1)\n",
    "    Gr_err = np.std(Gr,axis=1)/np.sqrt(Gr[0].shape[0])\n",
    "    GT_mean_40[temp_idx] = Gr_mean\n",
    "    GT_err_40[temp_idx] = Gr_err"
   ]
  },
  {
   "cell_type": "code",
   "execution_count": 60,
   "metadata": {},
   "outputs": [
    {
     "data": {
      "text/plain": [
       "array([[ 1.000000e+00,  2.788630e-01,  8.579500e-02,  2.849525e-02,\n",
       "         9.936375e-03,  3.594750e-03,  1.120000e-03,  5.360000e-04,\n",
       "         3.472500e-04, -8.625000e-05, -3.265000e-04, -1.896250e-04,\n",
       "        -8.450000e-05, -3.915000e-04, -4.072500e-04, -4.585000e-04,\n",
       "        -6.612500e-05, -1.997500e-04,  3.550000e-05, -1.742500e-04,\n",
       "        -2.845000e-04]])"
      ]
     },
     "execution_count": 60,
     "metadata": {},
     "output_type": "execute_result"
    }
   ],
   "source": [
    "GT_mean_40"
   ]
  },
  {
   "cell_type": "code",
   "execution_count": 62,
   "metadata": {},
   "outputs": [
    {
     "data": {
      "image/png": "[encoded data removed]",
      "text/plain": [
       "<Figure size 432x288 with 1 Axes>"
      ]
     },
     "metadata": {
      "needs_background": "light"
     },
     "output_type": "display_data"
    }
   ],
   "source": [
    "# Modify plot and save\n",
    "for i,results in enumerate(temp_list):\n",
    "    plt.errorbar(range(max_length+1),GT_mean_40[i],yerr=GT_err_40[i],fmt='.-',\n",
    "                 ms=10,label=r'$T=%.2f$ (julia)'%float(temp_list[i]));\n",
    "plt.ylabel(r'$\\langle \\sigma_0 \\sigma_r \\rangle$')\n",
    "plt.xlabel(r'$r$')\n",
    "plt.legend(frameon=False);\n",
    "plt.savefig('L40_Tsweep_corr.pdf',dpi=300)"
   ]
  },
  {
   "cell_type": "markdown",
   "metadata": {},
   "source": [
    "## Their data"
   ]
  },
  {
   "cell_type": "code",
   "execution_count": null,
   "metadata": {},
   "outputs": [],
   "source": []
  },
  {
   "cell_type": "code",
   "execution_count": null,
   "metadata": {},
   "outputs": [],
   "source": []
  },
  {
   "cell_type": "markdown",
   "metadata": {},
   "source": [
    "## Autocorrelation time"
   ]
  },
  {
   "cell_type": "code",
   "execution_count": null,
   "metadata": {},
   "outputs": [],
   "source": []
  }
 ],
 "metadata": {
  "kernelspec": {
   "display_name": "Python 3",
   "language": "python",
   "name": "python3"
  },
  "language_info": {
   "codemirror_mode": {
    "name": "ipython",
    "version": 3
   },
   "file_extension": ".py",
   "mimetype": "text/x-python",
   "name": "python",
   "nbconvert_exporter": "python",
   "pygments_lexer": "ipython3",
   "version": "3.8.5"
  }
 },
 "nbformat": 4,
 "nbformat_minor": 4
}
