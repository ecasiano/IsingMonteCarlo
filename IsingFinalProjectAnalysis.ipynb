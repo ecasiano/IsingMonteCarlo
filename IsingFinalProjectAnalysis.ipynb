{
 "cells": [
  {
   "cell_type": "markdown",
   "metadata": {},
   "source": [
    "### Exploration of Ising Model Properties"
   ]
  },
  {
   "cell_type": "markdown",
   "metadata": {},
   "source": [
    "1a) We first need to check if the data has reached thermal equilibrium. This can be achieved by plotting the running average of a quantity of interest, such as energy or magnetization, as a function of Monte Carlo iteration or, in the case of our data, sample number.\n",
    "\n",
    "Let's first take a look at the files we will be working with:"
   ]
  },
  {
   "cell_type": "code",
   "execution_count": 4,
   "metadata": {},
   "outputs": [
    {
     "name": "stdout",
     "output_type": "stream",
     "text": [
      "-511.2944    255.8208     261428.0384     65444.6816\n",
      "-511.2784    255.8168     261411.7568     65442.6384\n",
      "-511.2112    255.8     261343.1232     65434.048\n",
      "-511.352    255.836     261486.2144     65452.408\n",
      "-511.3584    255.8376     261492.5888     65453.2144\n",
      "-511.2144    255.8     261346.6816     65434.0736\n",
      "-511.3168    255.8248     261450.6176     65446.7184\n",
      "-511.3104    255.8248     261444.2688     65446.7216\n",
      "-511.3264    255.828     261459.9488     65448.3184\n",
      "-511.3264    255.8256     261460.3712     65447.1392\n"
     ]
    }
   ],
   "source": [
    "!tail Data/L_16_T_1.0.dat"
   ]
  },
  {
   "cell_type": "markdown",
   "metadata": {},
   "source": [
    "In the data file above, there are four columns corresponding to: energy, magnetization, energy squared, and magnetization squared. The rows corresponding to various samples that themselves were averaged already by accumulating the corresponding observable and averaging over a parameter known as the bin size. For the data provided in this project, each bin has the mean of an observabel that was averaged for bin size of 2500.\n",
    "\n",
    "Is the data above equilibrated?"
   ]
  },
  {
   "cell_type": "code",
   "execution_count": 3,
   "metadata": {},
   "outputs": [
    {
     "name": "stdout",
     "output_type": "stream",
     "text": [
      "L_100_T_0.25.dat              L_16_T_2.75.dat\n",
      "L_100_T_0.5.dat               L_16_T_3.0.dat\n",
      "L_100_T_0.75.dat              L_16_T_3.25.dat\n",
      "L_100_T_1.0.dat               L_16_T_3.5.dat\n",
      "L_100_T_1.25.dat              L_16_T_3.75.dat\n",
      "L_100_T_1.5.dat               L_16_T_4.0.dat\n",
      "L_100_T_1.75.dat              L_16_T_4.25.dat\n",
      "L_100_T_2.0.dat               L_16_T_4.5.dat\n",
      "L_100_T_2.25.dat              L_16_T_4.75.dat\n",
      "L_100_T_2.5.dat               L_16_T_5.0.dat\n",
      "L_100_T_2.75.dat              L_20_T_0.25.dat\n",
      "L_100_T_3.0.dat               L_20_T_0.5.dat\n",
      "L_100_T_3.25.dat              L_20_T_0.75.dat\n",
      "L_100_T_3.5.dat               L_20_T_1.0.dat\n",
      "L_100_T_3.75.dat              L_20_T_1.25.dat\n",
      "L_100_T_4.0.dat               L_20_T_1.5.dat\n",
      "L_100_T_4.25.dat              L_20_T_1.75.dat\n",
      "L_100_T_4.5.dat               L_20_T_2.0.dat\n",
      "L_100_T_4.75.dat              L_20_T_2.25.dat\n",
      "L_100_T_5.0.dat               L_20_T_2.5.dat\n",
      "L_12_T_0.25.dat               L_20_T_2.75.dat\n",
      "L_12_T_0.5.dat                L_20_T_3.0.dat\n",
      "L_12_T_0.75.dat               L_20_T_3.25.dat\n",
      "L_12_T_1.0.dat                L_20_T_3.5.dat\n",
      "L_12_T_1.25.dat               L_20_T_3.75.dat\n",
      "L_12_T_1.5.dat                L_20_T_4.0.dat\n",
      "L_12_T_1.75.dat               L_20_T_4.25.dat\n",
      "L_12_T_2.0.dat                L_20_T_4.5.dat\n",
      "L_12_T_2.25.dat               L_20_T_4.75.dat\n",
      "L_12_T_2.5.dat                L_20_T_5.0.dat\n",
      "L_12_T_2.75.dat               L_24_T_0.25.dat\n",
      "L_12_T_3.0.dat                L_24_T_0.5.dat\n",
      "L_12_T_3.25.dat               L_24_T_0.75.dat\n",
      "L_12_T_3.5.dat                L_24_T_1.0.dat\n",
      "L_12_T_3.75.dat               L_24_T_1.25.dat\n",
      "L_12_T_4.0.dat                L_24_T_1.5.dat\n",
      "L_12_T_4.25.dat               L_24_T_1.75.dat\n",
      "L_12_T_4.5.dat                L_24_T_2.0.dat\n",
      "L_12_T_4.75.dat               L_24_T_2.25.dat\n",
      "L_12_T_5.0.dat                L_24_T_2.5.dat\n",
      "L_16_T_0.25.dat               L_24_T_2.75.dat\n",
      "L_16_T_0.3333333333333333.dat L_24_T_3.0.dat\n",
      "L_16_T_0.5.dat                L_24_T_3.25.dat\n",
      "L_16_T_0.75.dat               L_24_T_3.5.dat\n",
      "L_16_T_1.0.dat                L_24_T_3.75.dat\n",
      "L_16_T_1.25.dat               L_24_T_4.0.dat\n",
      "L_16_T_1.5.dat                L_24_T_4.25.dat\n",
      "L_16_T_1.75.dat               L_24_T_4.5.dat\n",
      "L_16_T_2.0.dat                L_24_T_4.75.dat\n",
      "L_16_T_2.25.dat               L_24_T_5.0.dat\n",
      "L_16_T_2.5.dat\n"
     ]
    }
   ],
   "source": [
    "!ls Data"
   ]
  },
  {
   "cell_type": "code",
   "execution_count": 327,
   "metadata": {},
   "outputs": [],
   "source": [
    "import numpy as np\n",
    "import matplotlib.pyplot as plt"
   ]
  },
  {
   "cell_type": "code",
   "execution_count": 328,
   "metadata": {},
   "outputs": [],
   "source": [
    "# Load data\n",
    "data = np.loadtxt(\"Data/L_16_T_1.0.dat\")\n",
    "\n",
    "# Retrieve energy data\n",
    "E = data[:,0]\n",
    "\n",
    "# Calculate the energy per spin\n",
    "L = 16\n",
    "total_sites = L**2\n",
    "energy_per_spin = E/total_sites\n",
    "\n",
    "energy_per_spin_moving_average = np.cumsum(energy_per_spin) \n",
    "sample_number = np.cumsum(np.ones_like(energy_per_spin))\n",
    "energy_per_spin_moving_average = np.divide(energy_per_spin_moving_average,sample_number)"
   ]
  },
  {
   "cell_type": "code",
   "execution_count": null,
   "metadata": {},
   "outputs": [
    {
     "ename": "NameError",
     "evalue": "name 'plt' is not defined",
     "output_type": "error",
     "traceback": [
      "\u001b[0;31m---------------------------------------------------------------------------\u001b[0m",
      "\u001b[0;31mNameError\u001b[0m                                 Traceback (most recent call last)",
      "\u001b[0;32m<ipython-input-1-6acdbea6c46c>\u001b[0m in \u001b[0;36m<module>\u001b[0;34m\u001b[0m\n\u001b[1;32m      1\u001b[0m \u001b[0;31m# Plot\u001b[0m\u001b[0;34m\u001b[0m\u001b[0;34m\u001b[0m\u001b[0;34m\u001b[0m\u001b[0m\n\u001b[0;32m----> 2\u001b[0;31m \u001b[0mplt\u001b[0m\u001b[0;34m.\u001b[0m\u001b[0mplot\u001b[0m\u001b[0;34m(\u001b[0m\u001b[0msample_number\u001b[0m\u001b[0;34m,\u001b[0m\u001b[0menergy_per_spin_moving_average\u001b[0m\u001b[0;34m,\u001b[0m\u001b[0mlabel\u001b[0m\u001b[0;34m=\u001b[0m\u001b[0;34mr'$\\beta=1.0$'\u001b[0m\u001b[0;34m)\u001b[0m\u001b[0;34m\u001b[0m\u001b[0;34m\u001b[0m\u001b[0m\n\u001b[0m\u001b[1;32m      3\u001b[0m \u001b[0mplt\u001b[0m\u001b[0;34m.\u001b[0m\u001b[0mylabel\u001b[0m\u001b[0;34m(\u001b[0m\u001b[0;34mr'$\\langle e \\rangle$'\u001b[0m\u001b[0;34m,\u001b[0m\u001b[0mlabelpad\u001b[0m\u001b[0;34m=\u001b[0m\u001b[0;36m15\u001b[0m\u001b[0;34m)\u001b[0m\u001b[0;34m\u001b[0m\u001b[0;34m\u001b[0m\u001b[0m\n\u001b[1;32m      4\u001b[0m \u001b[0mplt\u001b[0m\u001b[0;34m.\u001b[0m\u001b[0mxlabel\u001b[0m\u001b[0;34m(\u001b[0m\u001b[0;34m\"Sample Number\"\u001b[0m\u001b[0;34m)\u001b[0m\u001b[0;34m;\u001b[0m\u001b[0;34m\u001b[0m\u001b[0;34m\u001b[0m\u001b[0m\n\u001b[1;32m      5\u001b[0m \u001b[0mplt\u001b[0m\u001b[0;34m.\u001b[0m\u001b[0mlegend\u001b[0m\u001b[0;34m(\u001b[0m\u001b[0mframeon\u001b[0m\u001b[0;34m=\u001b[0m\u001b[0;32mFalse\u001b[0m\u001b[0;34m)\u001b[0m\u001b[0;34m\u001b[0m\u001b[0;34m\u001b[0m\u001b[0m\n",
      "\u001b[0;31mNameError\u001b[0m: name 'plt' is not defined"
     ]
    }
   ],
   "source": [
    "# Plot\n",
    "plt.plot(sample_number,energy_per_spin_moving_average,label=r'$\\beta=1.0$')\n",
    "plt.ylabel(r'$\\langle e \\rangle$')\n",
    "plt.xlabel(\"Sample Number\");\n",
    "plt.legend(frameon=False)"
   ]
  },
  {
   "cell_type": "markdown",
   "metadata": {},
   "source": [
    "Notice that there is an initial equilibration period before the data saturates. Roughly speaking, it takes the data above 100 samples to equilibrate. It is good practice to discard the unequilibrated data when calculating the quantities of interest.\n",
    "\n",
    "How is the equilibration affected by the inverse temperature $\\beta$ ?"
   ]
  },
  {
   "cell_type": "code",
   "execution_count": 330,
   "metadata": {},
   "outputs": [],
   "source": [
    "# Load data\n",
    "data = np.loadtxt(\"Data/L_16_T_0.3333333333333333.dat\")\n",
    "\n",
    "# Retrieve energy data\n",
    "E = data[:,0]\n",
    "\n",
    "# Calculate the energy per spin\n",
    "L = 16\n",
    "total_sites = L**2\n",
    "energy_per_spin = E/total_sites\n",
    "\n",
    "energy_per_spin_moving_average = np.cumsum(energy_per_spin) \n",
    "sample_number = np.cumsum(np.ones_like(energy_per_spin))\n",
    "energy_per_spin_moving_average = np.divide(energy_per_spin_moving_average,sample_number)"
   ]
  },
  {
   "cell_type": "code",
   "execution_count": 331,
   "metadata": {},
   "outputs": [
    {
     "data": {
      "image/png": "[encoded data removed]",
      "text/plain": [
       "<Figure size 432x288 with 1 Axes>"
      ]
     },
     "metadata": {
      "needs_background": "light"
     },
     "output_type": "display_data"
    }
   ],
   "source": [
    "# Plot\n",
    "plt.plot(sample_number,energy_per_spin_moving_average,label=r'$\\beta=3.0$')\n",
    "plt.ylabel(r'$\\langle e \\rangle$')\n",
    "plt.xlabel(\"Sample Number\");\n",
    "plt.legend(frameon=False);"
   ]
  },
  {
   "cell_type": "markdown",
   "metadata": {},
   "source": [
    "The reason that the data is seemingly equilibrated from the start is that in my implementation of the classical Monte Carlo Ising simulation, the Ising Lattice is initialized to all of them pointing up. That is, in the ferromagnetic ground state, which occurs for lower temperature $T$ or, alternatively, higher $\\beta$"
   ]
  },
  {
   "cell_type": "markdown",
   "metadata": {},
   "source": [
    "2b) We now know that we should perhaps throw out the first 100 bins for equilibration reasons. Now, let's take a look at: energy per spin and magnetization per spin, both as a function of temperature. This will be explored for an square Ising lattice of linear size $L=16$."
   ]
  },
  {
   "cell_type": "code",
   "execution_count": 332,
   "metadata": {},
   "outputs": [],
   "source": [
    "L = 16\n",
    "total_sites = L**2\n",
    "\n",
    "# Load the L=16 files\n",
    "import os\n",
    "L16_filenames = []\n",
    "for subdir, dirs, files in os.walk('./Data/'):\n",
    "    for filename in files:\n",
    "        if filename.split('_')[1] == str(L): L16_filenames.append(filename)\n",
    "L16_filenames = sorted(L16_filenames)"
   ]
  },
  {
   "cell_type": "code",
   "execution_count": 333,
   "metadata": {},
   "outputs": [],
   "source": [
    "e = []\n",
    "m = []\n",
    "\n",
    "for file in L16_filenames:\n",
    "    data = np.loadtxt('./Data/'+file)\n",
    "    \n",
    "    e_mean = np.mean(data[:,0][100:]/total_sites)\n",
    "    m_mean = np.mean(data[:,1][100:]/total_sites)\n",
    "    \n",
    "    e.append(e_mean)\n",
    "    m.append(m_mean)\n",
    "    \n",
    "e = np.array(e)\n",
    "m = np.array(m)"
   ]
  },
  {
   "cell_type": "code",
   "execution_count": 334,
   "metadata": {},
   "outputs": [],
   "source": [
    "# Retrieve temperatures for which we have data and store to array\n",
    "temperatures = []\n",
    "for filename in L16_filenames:\n",
    "    temperatures.append(float(filename.split('_')[3].replace('.dat','')))\n",
    "T = np.array(temperatures)"
   ]
  },
  {
   "cell_type": "code",
   "execution_count": 335,
   "metadata": {},
   "outputs": [
    {
     "data": {
      "text/plain": [
       "[<matplotlib.lines.Line2D at 0x7fe0b50636d0>]"
      ]
     },
     "execution_count": 335,
     "metadata": {},
     "output_type": "execute_result"
    },
    {
     "data": {
      "image/png": "[encoded data removed]",
      "text/plain": [
       "<Figure size 432x288 with 1 Axes>"
      ]
     },
     "metadata": {
      "needs_background": "light"
     },
     "output_type": "display_data"
    }
   ],
   "source": [
    "# Plot energy per spin vs temperature\n",
    "plt.plot(T,e,'o')"
   ]
  },
  {
   "cell_type": "code",
   "execution_count": 339,
   "metadata": {},
   "outputs": [],
   "source": [
    "def magnetization_exact_(T):\n",
    "    '''We use units where J/k_B = 1.'''\n",
    "    Tc = 2.0/np.log(1.0+np.sqrt(2.0))\n",
    "    if T < Tc:\n",
    "        return (1.0 - (1-np.tanh(1/T)**2)**4/(16*np.tanh(1/T)**4))**(-4)**(1.0/8)\n",
    "    else:\n",
    "        return 0.0\n",
    "magnetization_exact = np.vectorize(magnetization_exact_)"
   ]
  },
  {
   "cell_type": "code",
   "execution_count": 340,
   "metadata": {},
   "outputs": [
    {
     "name": "stderr",
     "output_type": "stream",
     "text": [
      "/opt/anaconda3/lib/python3.8/site-packages/numpy/core/_asarray.py:83: ComplexWarning: Casting complex values to real discards the imaginary part\n",
      "  return array(a, dtype, copy=False, order=order)\n"
     ]
    },
    {
     "data": {
      "text/plain": [
       "(-0.01, 1.04)"
      ]
     },
     "execution_count": 340,
     "metadata": {},
     "output_type": "execute_result"
    },
    {
     "data": {
      "image/png": "[encoded data removed]",
      "text/plain": [
       "<Figure size 432x288 with 1 Axes>"
      ]
     },
     "metadata": {
      "needs_background": "light"
     },
     "output_type": "display_data"
    }
   ],
   "source": [
    "plt.plot(T,m,'o')\n",
    "plt.plot(T,magnetization_exact(T),'-', linewidth=1, label='Exact')\n",
    "plt.xlim(0.5,5.0)\n",
    "plt.ylim(-0.01,1.04)"
   ]
  },
  {
   "cell_type": "markdown",
   "metadata": {},
   "source": [
    "The above results are statistical average and should have an associated error, which is not plotted yet. To get the error bars of each point, we perform a binning analysis."
   ]
  },
  {
   "cell_type": "code",
   "execution_count": 283,
   "metadata": {},
   "outputs": [],
   "source": [
    "def get_std_error(mc_data):\n",
    "    '''Input array and calculate standard error'''\n",
    "    N_bins = np.shape(mc_data)[0]\n",
    "    std_error = np.std(mc_data)/np.sqrt(N_bins)\n",
    "    \n",
    "    return std_error\n",
    "\n",
    "def get_binned_data(mc_data):\n",
    "    '''Return neighbor averaged data.'''\n",
    "    N_bins = np.shape(mc_data)[0]\n",
    "    start_bin = N_bins % 2\n",
    "    binned_mc_data = 0.5*(mc_data[start_bin::2]+mc_data[start_bin+1::2]) #Averages (A0,A1), (A2,A3), + ... A0 ignored if odd data\n",
    "\n",
    "    return binned_mc_data"
   ]
  },
  {
   "cell_type": "code",
   "execution_count": 317,
   "metadata": {},
   "outputs": [
    {
     "name": "stdout",
     "output_type": "stream",
     "text": [
      "512\n",
      "256\n",
      "128\n",
      "64\n",
      "32\n"
     ]
    }
   ],
   "source": [
    "data = np.loadtxt(\"./Data/L_16_T_1.0.dat\")\n",
    "M_data = data[:,0]\n",
    "\n",
    "#Determine max bin level\n",
    "max_bin_level = int(np.log2(np.shape(M_data)[0]))\n",
    "min_bin = 16\n",
    "\n",
    "#Initialize list to save standard error\n",
    "std_errors = []\n",
    "\n",
    "#Binning loop\n",
    "binned_data = np.copy(M_data)\n",
    "for i in range(max_bin_level):\n",
    "    print(np.shape(binned_data)[0])\n",
    "    std_errors.append(get_std_error(binned_data))   \n",
    "    if np.shape(binned_data)[0]/2 <= min_bin: break\n",
    "    binned_data = get_binned_data(binned_data)"
   ]
  },
  {
   "cell_type": "code",
   "execution_count": 325,
   "metadata": {},
   "outputs": [
    {
     "data": {
      "text/plain": [
       "Text(0.5, 0, '$Bin Level$')"
      ]
     },
     "execution_count": 325,
     "metadata": {},
     "output_type": "execute_result"
    },
    {
     "data": {
      "image/png": "[encoded data removed]",
      "text/plain": [
       "<Figure size 432x288 with 1 Axes>"
      ]
     },
     "metadata": {
      "needs_background": "light"
     },
     "output_type": "display_data"
    }
   ],
   "source": [
    "#Determine the number of bin levels\n",
    "bin_levels = [float(i) for i in range(np.size(binned_data))]\n",
    "\n",
    "#Plot\n",
    "fig, ax1 = plt.subplots()\n",
    "# ax1.plot(bin_levels,binned_data,'-',color='lightskyblue',label='9.9763')\n",
    "ax1.plot([512,256,128,64,32][::-1],std_errors,'o',color='steelblue',label='9.9763')\n",
    "#ax1.axhline(y=-1.71173196633913,linewidth=1,color=\"#cccccc\",zorder=0)\n",
    "#ax1.text(1.5,-0.4,r'Exact Egs: $-1.71173196633913$')\n",
    "ax1.set_ylabel(r\"$Std. Error$\")\n",
    "ax1.set_xlabel(r\"$Bin Level$\")\n",
    "#ax1.set_xlim(data00[:,0][0],data00[:,0][325])\n",
    "#ax1.set_xlim(data16b[:,0][0],data16b[:,0][-1])\n",
    "#ax1.set_ylim(-2,6)\n",
    "#plt.legend(ncol=2,title=r\"$U$\")\n",
    "\n",
    "# plt.savefig(\"egserr_%i_%i_%.4f_%.4f_%i.pdf\"%(L,N,U,v,M))"
   ]
  },
  {
   "cell_type": "code",
   "execution_count": 323,
   "metadata": {},
   "outputs": [
    {
     "data": {
      "text/plain": [
       "([0.0032136441223200095,\n",
       "  0.003198870268719005,\n",
       "  0.0030694046844930013,\n",
       "  0.0026464617445983852,\n",
       "  0.0028535408377127216],\n",
       " [0.0,\n",
       "  1.0,\n",
       "  2.0,\n",
       "  3.0,\n",
       "  4.0,\n",
       "  5.0,\n",
       "  6.0,\n",
       "  7.0,\n",
       "  8.0,\n",
       "  9.0,\n",
       "  10.0,\n",
       "  11.0,\n",
       "  12.0,\n",
       "  13.0,\n",
       "  14.0,\n",
       "  15.0,\n",
       "  16.0,\n",
       "  17.0,\n",
       "  18.0,\n",
       "  19.0,\n",
       "  20.0,\n",
       "  21.0,\n",
       "  22.0,\n",
       "  23.0,\n",
       "  24.0,\n",
       "  25.0,\n",
       "  26.0,\n",
       "  27.0,\n",
       "  28.0,\n",
       "  29.0,\n",
       "  30.0,\n",
       "  31.0])"
      ]
     },
     "execution_count": 323,
     "metadata": {},
     "output_type": "execute_result"
    }
   ],
   "source": [
    "std_errors,bin_levels"
   ]
  },
  {
   "cell_type": "code",
   "execution_count": null,
   "metadata": {},
   "outputs": [],
   "source": []
  }
 ],
 "metadata": {
  "kernelspec": {
   "display_name": "Python 3",
   "language": "python",
   "name": "python3"
  },
  "language_info": {
   "codemirror_mode": {
    "name": "ipython",
    "version": 3
   },
   "file_extension": ".py",
   "mimetype": "text/x-python",
   "name": "python",
   "nbconvert_exporter": "python",
   "pygments_lexer": "ipython3",
   "version": "3.8.5"
  }
 },
 "nbformat": 4,
 "nbformat_minor": 4
}
